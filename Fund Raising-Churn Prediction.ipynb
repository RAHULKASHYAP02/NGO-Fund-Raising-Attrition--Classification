{
 "cells": [
  {
   "cell_type": "markdown",
   "metadata": {},
   "source": [
    "## NGO-FUND RAISING CHURN PREDICTION"
   ]
  },
  {
   "cell_type": "code",
   "execution_count": 54,
   "metadata": {},
   "outputs": [],
   "source": [
    "import pandas as pd\n",
    "import matplotlib.pyplot as plt\n",
    "import numpy as np\n",
    "import pandas_profiling as pp \n",
    "import seaborn as sns\n",
    "#import pandas_profiling as pp\n",
    "from sklearn.preprocessing import LabelEncoder\n",
    "from sklearn.decomposition import FactorAnalysis\n",
    "from sklearn.cluster import KMeans, DBSCAN\n",
    "from sklearn.decomposition import PCA\n",
    "from sklearn.manifold import TSNE\n",
    "# Creating an Excel File for output..\n",
    "writer=pd.ExcelWriter('churn prediction Output.xlsx', engine='xlsxwriter')"
   ]
  },
  {
   "cell_type": "code",
   "execution_count": 55,
   "metadata": {},
   "outputs": [],
   "source": [
    "extrel=pd.read_sas('data\\extrel.sas7bdat')\n",
    "extrelty=pd.read_sas('data\\extrelty.sas7bdat')\n",
    "nameaddr=pd.read_sas('nameaddr.sas7bdat')\n",
    "payhistory=pd.read_sas('data\\payhistory.sas7bdat')\n",
    "comclas=pd.read_sas('data\\comclas.sas7bdat')\n",
    "commaint=pd.read_sas('data\\commaint.sas7bdat')\n",
    "commediu=pd.read_sas('data\\commediu.sas7bdat')\n",
    "communication=pd.read_sas('data\\communication.sas7bdat')"
   ]
  },
  {
   "cell_type": "code",
   "execution_count": 56,
   "metadata": {},
   "outputs": [],
   "source": [
    "#print extrel.info()\n",
    "#print extrelty.info()\n",
    "#print nameaddr.info()"
   ]
  },
  {
   "cell_type": "markdown",
   "metadata": {},
   "source": [
    "   **Merging all the data**\n",
    "    \n",
    "    -Merging extrel,extrelty and nameaddr as one dataset.\n",
    "    -Merging communication,commediu,commaint and comclas as one dataset.\n",
    "    -Leaving payhistory data as it is."
   ]
  },
  {
   "cell_type": "code",
   "execution_count": 57,
   "metadata": {},
   "outputs": [],
   "source": [
    "ext=pd.merge(extrel,extrelty,how='left')\n",
    "ext_data=pd.merge(ext,nameaddr,how='left')\n",
    "\n",
    "comm1=pd.merge(communication,commediu,how='left')\n",
    "comm2=pd.merge(comm1,commaint,how='left')\n",
    "commu=pd.merge(comm2,comclas,how='left')\n",
    "\n",
    "\n",
    "# Now the main datasets are ...\n",
    "    #1.ext_data\n",
    "    #2.commu\n",
    "    #3.payhistory"
   ]
  },
  {
   "cell_type": "markdown",
   "metadata": {},
   "source": [
    "_____"
   ]
  },
  {
   "cell_type": "markdown",
   "metadata": {},
   "source": [
    "### 1.Making a list of active customers"
   ]
  },
  {
   "cell_type": "markdown",
   "metadata": {},
   "source": [
    "    1A. Defining the Time Window.\n",
    "            -Start of dependent window = 01 January 2006\n",
    "            -End   of dependent window = 31 December 2006\n",
    "            -End of independent window = 03 December 2005  "
   ]
  },
  {
   "cell_type": "code",
   "execution_count": 58,
   "metadata": {},
   "outputs": [],
   "source": [
    "start_DW=np.datetime64('2006-01-01')\n",
    "end_DW=np.datetime64('2006-12-31')\n",
    "end_IW=np.datetime64('2005-12-03')"
   ]
  },
  {
   "cell_type": "markdown",
   "metadata": {},
   "source": [
    "    1B. Subset the ext_data dataset according to the appropriate timewindow and only select donors with a commitment.\n",
    "               -Select Active Customer for the Basetable.\n",
    "                 -Donor is active iff:\n",
    "                    1.Activity code of the donor = 'FP'\n",
    "                    2.Start date before end of Independent Window ie., 03 December 2005...(Missing: not ended)\n",
    "                    3.End date after start of dependent window ie., 01 January 2006...(Missing: not ended)"
   ]
  },
  {
   "cell_type": "code",
   "execution_count": 59,
   "metadata": {},
   "outputs": [
    {
     "data": {
      "text/html": [
       "<div>\n",
       "<style scoped>\n",
       "    .dataframe tbody tr th:only-of-type {\n",
       "        vertical-align: middle;\n",
       "    }\n",
       "\n",
       "    .dataframe tbody tr th {\n",
       "        vertical-align: top;\n",
       "    }\n",
       "\n",
       "    .dataframe thead th {\n",
       "        text-align: right;\n",
       "    }\n",
       "</style>\n",
       "<table border=\"1\" class=\"dataframe\">\n",
       "  <thead>\n",
       "    <tr style=\"text-align: right;\">\n",
       "      <th></th>\n",
       "      <th>EXTRELNO</th>\n",
       "      <th>EXRELACTCD</th>\n",
       "      <th>EXTRELSTDT</th>\n",
       "      <th>EXRELDATEN</th>\n",
       "      <th>EXRELACTDE</th>\n",
       "      <th>NAME1TITLE</th>\n",
       "      <th>POSTCODE</th>\n",
       "      <th>LANGUACODE</th>\n",
       "    </tr>\n",
       "  </thead>\n",
       "  <tbody>\n",
       "    <tr>\n",
       "      <th>1</th>\n",
       "      <td>0026419</td>\n",
       "      <td>FP</td>\n",
       "      <td>1992-03-01</td>\n",
       "      <td>NaT</td>\n",
       "      <td>CommitmentDo</td>\n",
       "      <td>HM</td>\n",
       "      <td>2600</td>\n",
       "      <td>NL</td>\n",
       "    </tr>\n",
       "    <tr>\n",
       "      <th>3</th>\n",
       "      <td>0026430</td>\n",
       "      <td>FP</td>\n",
       "      <td>1992-03-01</td>\n",
       "      <td>2006-01-31</td>\n",
       "      <td>CommitmentDo</td>\n",
       "      <td>HM</td>\n",
       "      <td>2040</td>\n",
       "      <td>NL</td>\n",
       "    </tr>\n",
       "    <tr>\n",
       "      <th>5</th>\n",
       "      <td>0026431</td>\n",
       "      <td>FP</td>\n",
       "      <td>1992-03-01</td>\n",
       "      <td>NaT</td>\n",
       "      <td>CommitmentDo</td>\n",
       "      <td>FA</td>\n",
       "      <td>8520</td>\n",
       "      <td>NL</td>\n",
       "    </tr>\n",
       "    <tr>\n",
       "      <th>7</th>\n",
       "      <td>0026443</td>\n",
       "      <td>FP</td>\n",
       "      <td>1992-03-01</td>\n",
       "      <td>NaT</td>\n",
       "      <td>CommitmentDo</td>\n",
       "      <td>HM</td>\n",
       "      <td>1652</td>\n",
       "      <td>NL</td>\n",
       "    </tr>\n",
       "    <tr>\n",
       "      <th>8</th>\n",
       "      <td>0026444</td>\n",
       "      <td>FP</td>\n",
       "      <td>1992-03-01</td>\n",
       "      <td>NaT</td>\n",
       "      <td>CommitmentDo</td>\n",
       "      <td>MW</td>\n",
       "      <td>3001</td>\n",
       "      <td>NL</td>\n",
       "    </tr>\n",
       "  </tbody>\n",
       "</table>\n",
       "</div>"
      ],
      "text/plain": [
       "  EXTRELNO EXRELACTCD EXTRELSTDT EXRELDATEN    EXRELACTDE NAME1TITLE POSTCODE  \\\n",
       "1  0026419         FP 1992-03-01        NaT  CommitmentDo         HM     2600   \n",
       "3  0026430         FP 1992-03-01 2006-01-31  CommitmentDo         HM     2040   \n",
       "5  0026431         FP 1992-03-01        NaT  CommitmentDo         FA     8520   \n",
       "7  0026443         FP 1992-03-01        NaT  CommitmentDo         HM     1652   \n",
       "8  0026444         FP 1992-03-01        NaT  CommitmentDo         MW     3001   \n",
       "\n",
       "  LANGUACODE  \n",
       "1         NL  \n",
       "3         NL  \n",
       "5         NL  \n",
       "7         NL  \n",
       "8         NL  "
      ]
     },
     "execution_count": 59,
     "metadata": {},
     "output_type": "execute_result"
    }
   ],
   "source": [
    "active=ext_data[ (ext_data['EXRELACTCD']=='FP') & (ext_data['EXTRELSTDT']<end_IW) & (~(ext_data['EXRELDATEN']<start_DW)) ]\n",
    "active.head()"
   ]
  },
  {
   "cell_type": "markdown",
   "metadata": {},
   "source": [
    "___"
   ]
  },
  {
   "cell_type": "markdown",
   "metadata": {},
   "source": [
    "### 2. Creating the following Independent variables\n",
    "        a.Frequency                                 e.Last Payment Date\n",
    "        b.Recency                                   f.Last Communication Date\n",
    "        c.Total donation per donor                  \n",
    "        d.Average donation per donor          \n",
    "        "
   ]
  },
  {
   "cell_type": "markdown",
   "metadata": {},
   "source": [
    "    Recency: How recently a customer has made a purchase\n",
    "    Frequency: How often a customer makes a purchase\n",
    "    Monetary Value: How much money a customer spends on purchases"
   ]
  },
  {
   "cell_type": "code",
   "execution_count": 60,
   "metadata": {},
   "outputs": [
    {
     "name": "stderr",
     "output_type": "stream",
     "text": [
      "C:\\Anaconda\\lib\\site-packages\\ipykernel_launcher.py:34: FutureWarning: Sorting because non-concatenation axis is not aligned. A future version\n",
      "of pandas will change to not sort by default.\n",
      "\n",
      "To accept the future behavior, pass 'sort=True'.\n",
      "\n",
      "To retain the current behavior and silence the warning, pass sort=False\n",
      "\n"
     ]
    }
   ],
   "source": [
    "import datetime as dt\n",
    "NOW = dt.datetime(2007,1,15) # Latest Date\n",
    "\n",
    "\n",
    "################ Frequency-Recency-Monetary ######################################################\n",
    "\n",
    "rfm_table= payhistory.groupby('EXTRELNO').agg({'PDATE': lambda x: (NOW - x.max()).days, # Recency\n",
    "                                        'PID': lambda x: len(x),      # Frequency\n",
    "                                        'PAMT': lambda x: x.sum()}) # Monetary Value\n",
    "rfm_table.rename(columns={'PDATE': 'Recency', \n",
    "                         'PID': 'Frequency', \n",
    "                         'PAMT': 'Monetary_value'}, inplace=True)\n",
    "\n",
    "#################### Total and Average Donation per customer##################################\n",
    "\n",
    "avg_table=payhistory.groupby('EXTRELNO')['PAMT'].agg(['sum','mean'])\n",
    "avg_table.rename(columns={'sum': 'PAMT_Total', \n",
    "                         'mean': 'PAMT_Average'}, inplace=True)\n",
    "\n",
    "########################## last Payment Date ###################################################\n",
    "\n",
    "last_pay=payhistory.groupby('EXTRELNO')['PDATE'].agg('max')\n",
    "last_pay=pd.DataFrame(last_pay)\n",
    "last_pay.rename(columns={'PDATE':'Last_pay'}, inplace=True)\n",
    "\n",
    "\n",
    "########################## Last Communication info ##############################################\n",
    "\n",
    "last_comm=commu.sort_values(ascending=0, by='CONTDATE').groupby('EXTRELNO').nth(0)\n",
    "last_comm=pd.DataFrame(last_comm)\n",
    "last_comm.rename(columns={'CONTDATE':'Last_communication'}, inplace=True)\n",
    "\n",
    "# Merging the above variables.....\n",
    "t1=pd.concat([rfm_table,avg_table,last_pay,last_comm],axis=1)\n",
    "t1.reset_index(inplace=True)\n",
    "t1.rename(columns={'index':'EXTRELNO'},inplace=True)"
   ]
  },
  {
   "cell_type": "code",
   "execution_count": 61,
   "metadata": {},
   "outputs": [
    {
     "name": "stdout",
     "output_type": "stream",
     "text": [
      "<class 'pandas.core.frame.DataFrame'>\n",
      "RangeIndex: 22919 entries, 0 to 22918\n",
      "Data columns (total 16 columns):\n",
      "EXTRELNO              22919 non-null object\n",
      "Recency               16308 non-null float64\n",
      "Monetary_value        16308 non-null float64\n",
      "Frequency             16308 non-null float64\n",
      "PAMT_Total            16308 non-null float64\n",
      "PAMT_Average          16308 non-null float64\n",
      "Last_pay              16308 non-null datetime64[ns]\n",
      "CLASCODE              21932 non-null object\n",
      "CLASDESC              21929 non-null object\n",
      "Last_communication    21932 non-null datetime64[ns]\n",
      "CONTDIREC             21932 non-null object\n",
      "CONTID                21932 non-null object\n",
      "MEDIUMCODE            21932 non-null object\n",
      "MEDIUMDESC            13406 non-null object\n",
      "MNTOPCODE             21932 non-null object\n",
      "MNTOPDESC             21932 non-null object\n",
      "dtypes: datetime64[ns](2), float64(5), object(9)\n",
      "memory usage: 2.8+ MB\n"
     ]
    }
   ],
   "source": [
    "t1.info()"
   ]
  },
  {
   "cell_type": "markdown",
   "metadata": {},
   "source": [
    "_________________"
   ]
  },
  {
   "cell_type": "markdown",
   "metadata": {},
   "source": [
    "### Creating the Dependent variable\n",
    "          1. Create a Churn Variable.\n",
    "              -[if relationship has ended, churn = 1] "
   ]
  },
  {
   "cell_type": "code",
   "execution_count": 62,
   "metadata": {},
   "outputs": [
    {
     "name": "stderr",
     "output_type": "stream",
     "text": [
      "C:\\Anaconda\\lib\\site-packages\\ipykernel_launcher.py:2: SettingWithCopyWarning: \n",
      "A value is trying to be set on a copy of a slice from a DataFrame.\n",
      "Try using .loc[row_indexer,col_indexer] = value instead\n",
      "\n",
      "See the caveats in the documentation: http://pandas.pydata.org/pandas-docs/stable/indexing.html#indexing-view-versus-copy\n",
      "  \n",
      "C:\\Anaconda\\lib\\site-packages\\ipykernel_launcher.py:3: SettingWithCopyWarning: \n",
      "A value is trying to be set on a copy of a slice from a DataFrame.\n",
      "Try using .loc[row_indexer,col_indexer] = value instead\n",
      "\n",
      "See the caveats in the documentation: http://pandas.pydata.org/pandas-docs/stable/indexing.html#indexing-view-versus-copy\n",
      "  This is separate from the ipykernel package so we can avoid doing imports until\n"
     ]
    },
    {
     "data": {
      "text/html": [
       "<div>\n",
       "<style scoped>\n",
       "    .dataframe tbody tr th:only-of-type {\n",
       "        vertical-align: middle;\n",
       "    }\n",
       "\n",
       "    .dataframe tbody tr th {\n",
       "        vertical-align: top;\n",
       "    }\n",
       "\n",
       "    .dataframe thead th {\n",
       "        text-align: right;\n",
       "    }\n",
       "</style>\n",
       "<table border=\"1\" class=\"dataframe\">\n",
       "  <thead>\n",
       "    <tr style=\"text-align: right;\">\n",
       "      <th></th>\n",
       "      <th>EXTRELNO</th>\n",
       "      <th>EXRELACTCD</th>\n",
       "      <th>EXTRELSTDT</th>\n",
       "      <th>EXRELDATEN</th>\n",
       "      <th>EXRELACTDE</th>\n",
       "      <th>NAME1TITLE</th>\n",
       "      <th>POSTCODE</th>\n",
       "      <th>LANGUACODE</th>\n",
       "      <th>Churn</th>\n",
       "      <th>Start_Year</th>\n",
       "    </tr>\n",
       "  </thead>\n",
       "  <tbody>\n",
       "    <tr>\n",
       "      <th>1</th>\n",
       "      <td>0026419</td>\n",
       "      <td>FP</td>\n",
       "      <td>1992-03-01</td>\n",
       "      <td>NaT</td>\n",
       "      <td>CommitmentDo</td>\n",
       "      <td>HM</td>\n",
       "      <td>2600</td>\n",
       "      <td>NL</td>\n",
       "      <td>0</td>\n",
       "      <td>1992</td>\n",
       "    </tr>\n",
       "    <tr>\n",
       "      <th>3</th>\n",
       "      <td>0026430</td>\n",
       "      <td>FP</td>\n",
       "      <td>1992-03-01</td>\n",
       "      <td>2006-01-31</td>\n",
       "      <td>CommitmentDo</td>\n",
       "      <td>HM</td>\n",
       "      <td>2040</td>\n",
       "      <td>NL</td>\n",
       "      <td>1</td>\n",
       "      <td>1992</td>\n",
       "    </tr>\n",
       "  </tbody>\n",
       "</table>\n",
       "</div>"
      ],
      "text/plain": [
       "  EXTRELNO EXRELACTCD EXTRELSTDT EXRELDATEN    EXRELACTDE NAME1TITLE POSTCODE  \\\n",
       "1  0026419         FP 1992-03-01        NaT  CommitmentDo         HM     2600   \n",
       "3  0026430         FP 1992-03-01 2006-01-31  CommitmentDo         HM     2040   \n",
       "\n",
       "  LANGUACODE  Churn  Start_Year  \n",
       "1         NL      0        1992  \n",
       "3         NL      1        1992  "
      ]
     },
     "execution_count": 62,
     "metadata": {},
     "output_type": "execute_result"
    }
   ],
   "source": [
    "# Creating Variable Chrun and Start_year as follows...\n",
    "active['Churn'] =np.where(active['EXRELDATEN'].isnull(), 0, 1)\n",
    "active['Start_Year']=map(lambda x: x.year, active['EXTRELSTDT'])\n",
    "active.to_excel(writer,'Active Customers',index=True)\n",
    "active.head(2)"
   ]
  },
  {
   "cell_type": "code",
   "execution_count": 63,
   "metadata": {},
   "outputs": [
    {
     "name": "stdout",
     "output_type": "stream",
     "text": [
      "1995    874\n",
      "1993    812\n",
      "2000    783\n",
      "1994    747\n",
      "2005    529\n",
      "1999    523\n",
      "2004    520\n",
      "1992    436\n",
      "2002    391\n",
      "2001    362\n",
      "1996    346\n",
      "2003    304\n",
      "1997    283\n",
      "1998    271\n",
      "Name: Start_Year, dtype: int64\n"
     ]
    },
    {
     "data": {
      "text/plain": [
       "Text(0.5,1,'Histogram of active customers')"
      ]
     },
     "execution_count": 63,
     "metadata": {},
     "output_type": "execute_result"
    },
    {
     "data": {
      "image/png": "[encoded data removed]",
      "text/plain": [
       "<Figure size 800x550 with 1 Axes>"
      ]
     },
     "metadata": {},
     "output_type": "display_data"
    }
   ],
   "source": [
    "count=active['Start_Year'].value_counts()\n",
    "print count\n",
    "axes=count.sort_index().plot.bar()\n",
    "axes.set_xlabel('Year')\n",
    "axes.set_ylabel('Frequency')\n",
    "axes.set_title('Histogram of active customers')"
   ]
  },
  {
   "cell_type": "markdown",
   "metadata": {},
   "source": [
    " -From the above Histogram, we can see that:\n",
    "          -Year 1995 had most active customes with 874 customers.\n",
    "          -Year 1998 had least aactive customes with 271 customers."
   ]
  },
  {
   "cell_type": "markdown",
   "metadata": {},
   "source": [
    "___________"
   ]
  },
  {
   "cell_type": "markdown",
   "metadata": {},
   "source": [
    "### 4. Merge Everything and Identify Missing Values"
   ]
  },
  {
   "cell_type": "markdown",
   "metadata": {},
   "source": [
    "    -Since, we already selected actvie donar in  \"active\" dataset from \"ext_data\" [extrel,extrelty,nameaddress]dataset and \n",
    "     independents variable from \"payhistory\" and \"commu\" datasets  in \"t1\" datasets.. \n",
    "     -Therefore, we will be merging these two datasets only.i.e., active and t1 datasets."
   ]
  },
  {
   "cell_type": "code",
   "execution_count": 64,
   "metadata": {},
   "outputs": [],
   "source": [
    "basetable=pd.merge(active,t1)"
   ]
  },
  {
   "cell_type": "code",
   "execution_count": null,
   "metadata": {},
   "outputs": [],
   "source": [
    "basetable.to_excel(writer,'Merged Data',index=True)\n",
    "basetable.info()\n",
    "#basetable.head(2)"
   ]
  },
  {
   "cell_type": "code",
   "execution_count": null,
   "metadata": {},
   "outputs": [],
   "source": [
    "axes=basetable.pivot_table(index='Start_Year', values='Churn', aggfunc='mean').plot()\n",
    "axes.set_xlabel('STARTING YEAR')\n",
    "axes.set_ylabel('CHURN PERCENTAGE')\n",
    "axes.set_title('Churn Plot')"
   ]
  },
  {
   "cell_type": "markdown",
   "metadata": {},
   "source": [
    "#### Data Description"
   ]
  },
  {
   "cell_type": "code",
   "execution_count": null,
   "metadata": {},
   "outputs": [],
   "source": [
    "numeric_var=[key for key in dict(basetable.dtypes) if dict(basetable.dtypes)[key] in ['float64', 'int64', 'float32', 'int32']]\n",
    "cat_var=[key for key in dict(basetable.dtypes) if dict(basetable.dtypes)[key] in ['object']]\n",
    "\n",
    "basetable_num=basetable[numeric_var]\n",
    "basetable_cat=basetable[cat_var]\n",
    "\n",
    "print numeric_var\n",
    "print \"*\"*100\n",
    "print cat_var"
   ]
  },
  {
   "cell_type": "code",
   "execution_count": null,
   "metadata": {},
   "outputs": [],
   "source": [
    "# Creating Data audit Report\n",
    "# Use a general function that returns multiple values    \n",
    "def var_summary(x):\n",
    "    return pd.Series([x.count(), x.isnull().sum(), x.sum(), x.mean(), x.median(),  x.std(), x.var(), x.min(), x.dropna().quantile(0.01), x.dropna().quantile(0.05),x.dropna().quantile(0.10),x.dropna().quantile(0.25),x.dropna().quantile(0.50),x.dropna().quantile(0.75), x.dropna().quantile(0.90),x.dropna().quantile(0.95), x.dropna().quantile(0.99),x.max()], \n",
    "                  index=['N', 'NMISS', 'SUM', 'MEAN','MEDIAN', 'STD', 'VAR', 'MIN', 'P1' , 'P5' ,'P10' ,'P25' ,'P50' ,'P75' ,'P90' ,'P95' ,'P99' ,'MAX'])\n",
    " \n",
    "num_summary=basetable_num.apply(lambda x: var_summary(x)).T\n",
    "num_summary.to_excel(writer,'Numeric_variable Summary',index=True)\n",
    "num_summary"
   ]
  },
  {
   "cell_type": "markdown",
   "metadata": {},
   "source": [
    "##### Correlation "
   ]
  },
  {
   "cell_type": "code",
   "execution_count": null,
   "metadata": {
    "scrolled": false
   },
   "outputs": [],
   "source": [
    "base_corr=pd.DataFrame(basetable.corr())\n",
    "base_corr.to_excel(writer,'Correlation_Matrix',index=True)\n",
    "base_corr.head()"
   ]
  },
  {
   "cell_type": "markdown",
   "metadata": {},
   "source": [
    "#### Checking for Missing Value Variables"
   ]
  },
  {
   "cell_type": "code",
   "execution_count": null,
   "metadata": {},
   "outputs": [],
   "source": [
    "count=0\n",
    "for var in basetable:\n",
    "    print var+\",\",\n",
    "    count=count+1\n",
    "\n",
    "print count"
   ]
  },
  {
   "cell_type": "code",
   "execution_count": null,
   "metadata": {},
   "outputs": [],
   "source": [
    "print \"*\"*60\n",
    "print \"Variables with no. of Missing values\"\n",
    "for var in basetable:\n",
    "    if (basetable[var].isnull().any()) ==True:\n",
    "        x=basetable[var].isnull().sum()\n",
    "        print ('{0}: {1} '.format(var,x))\n",
    "        \n",
    "print \"*\"*60"
   ]
  },
  {
   "cell_type": "markdown",
   "metadata": {},
   "source": [
    "### 5. Imputing  Missings Values,Treating Outliers and Creating Dummy Variables"
   ]
  },
  {
   "cell_type": "code",
   "execution_count": null,
   "metadata": {
    "scrolled": true
   },
   "outputs": [],
   "source": [
    "pp.ProfileReport(basetable)"
   ]
  },
  {
   "cell_type": "code",
   "execution_count": null,
   "metadata": {},
   "outputs": [],
   "source": [
    "# Droping the irrevalent variables...\n",
    "drop_list=['MEDIUMDESC','EXRELACTDE','NAME1TITLE','MNTOPDESC','CLASDESC','EXRELDATEN','POSTCODE',\n",
    "          'EXRELACTCD','EXTRELSTDT','CONTID','Last_pay','Last_communication','Monetary_value']\n",
    "\n",
    "basetable.drop(drop_list,axis=1,inplace=True)"
   ]
  },
  {
   "cell_type": "code",
   "execution_count": null,
   "metadata": {},
   "outputs": [],
   "source": [
    "print \"*\"*60\n",
    "print \"Variables with no. of Missing values\"\n",
    "for var in basetable:\n",
    "    if (basetable[var].isnull().any()) ==True:\n",
    "        x=basetable[var].isnull().sum()\n",
    "        print ('{0}: {1} '.format(var,x))\n",
    "        \n",
    "print \"*\"*60"
   ]
  },
  {
   "cell_type": "code",
   "execution_count": null,
   "metadata": {},
   "outputs": [],
   "source": [
    "# Missing Value Treatment\n",
    "basetable['Recency']=basetable['Recency'].transform(lambda x: x.fillna(x.mean()))\n",
    "basetable['Frequency']=basetable['Frequency'].transform(lambda x: x.fillna(x.mean()))\n",
    "basetable['PAMT_Total']=basetable['PAMT_Total'].transform(lambda x: x.fillna(x.mean()))\n",
    "basetable['PAMT_Average']=basetable['PAMT_Average'].transform(lambda x: x.fillna(x.mean()))\n",
    "#basetable['Last_pay']=basetable['Last_pay'].transform(lambda x: x.fillna(x.max()))\n",
    "#basetable['Monetary_value']=basetable['Monetary_value'].transform(lambda x: x.fillna(x.mean()))\n",
    "\n",
    "# Basetable after Missing value treatment......\n",
    "basetable.to_excel(writer,'Missing Value Treatment',index=True)"
   ]
  },
  {
   "cell_type": "code",
   "execution_count": null,
   "metadata": {
    "scrolled": true
   },
   "outputs": [],
   "source": [
    "basetable.isnull().sum()"
   ]
  },
  {
   "cell_type": "markdown",
   "metadata": {},
   "source": [
    "###### Outlier treatment"
   ]
  },
  {
   "cell_type": "code",
   "execution_count": null,
   "metadata": {},
   "outputs": [],
   "source": [
    "basetable.info()"
   ]
  },
  {
   "cell_type": "code",
   "execution_count": null,
   "metadata": {},
   "outputs": [],
   "source": [
    "for col in basetable:\n",
    "    dt = basetable[col].dtype \n",
    "    if dt == int or dt == float:\n",
    "        basetable[col]=basetable[col].clip_upper(basetable[col].quantile(0.99))\n",
    "        basetable[col]=basetable[col].clip_lower(basetable[col].quantile(0.01))\n",
    "# Basetable after Outlier treatment...\n",
    "basetable.to_excel(writer,'Outlier Treatment',index=True)"
   ]
  },
  {
   "cell_type": "markdown",
   "metadata": {},
   "source": [
    "###### Dummy Variable creation"
   ]
  },
  {
   "cell_type": "code",
   "execution_count": null,
   "metadata": {},
   "outputs": [],
   "source": [
    "basetable['CLASCODE'] = LabelEncoder().fit_transform(basetable['CLASCODE'])\n",
    "basetable['CONTDIREC'] = LabelEncoder().fit_transform(basetable['CONTDIREC'])\n",
    "basetable['MEDIUMCODE'] = LabelEncoder().fit_transform(basetable['MEDIUMCODE'])\n",
    "basetable['MNTOPCODE'] = LabelEncoder().fit_transform(basetable['MNTOPCODE'])\n",
    "basetable['LANGUACODE'] = LabelEncoder().fit_transform(basetable['LANGUACODE'])\n",
    "#basetable['Last_pay'] = LabelEncoder().fit_transform(basetable['Last_pay'])\n",
    "#basetable['Last_communication'] = LabelEncoder().fit_transform(basetable['Last_communication'])"
   ]
  },
  {
   "cell_type": "markdown",
   "metadata": {},
   "source": [
    "##### Factor Analysis"
   ]
  },
  {
   "cell_type": "code",
   "execution_count": null,
   "metadata": {},
   "outputs": [],
   "source": [
    "numeric_var=[key for key in dict(basetable.dtypes) if dict(basetable.dtypes)[key] in ['float64', 'int64', 'float32', 'int32']]\n",
    "basetable_num=basetable[numeric_var]\n",
    "for var in basetable_num:\n",
    "    if basetable_num[var].dtypes == float:\n",
    "        basetable_num[var]=basetable_num[var].astype(int)"
   ]
  },
  {
   "cell_type": "code",
   "execution_count": null,
   "metadata": {},
   "outputs": [],
   "source": [
    "basetable_num.shape"
   ]
  },
  {
   "cell_type": "code",
   "execution_count": null,
   "metadata": {},
   "outputs": [],
   "source": [
    "factor=FactorAnalysis(11).fit(basetable_num)\n",
    "F_analysis=pd.DataFrame(factor.components_,columns=numeric_var).T\n",
    "F_analysis=F_analysis.add_prefix('Factor')\n",
    "F_analysis.to_excel(writer,'Factor Analysis',index=True)\n",
    "F_analysis.head()"
   ]
  },
  {
   "cell_type": "markdown",
   "metadata": {},
   "source": [
    "----"
   ]
  },
  {
   "cell_type": "markdown",
   "metadata": {},
   "source": [
    "#### Standardrizing the Data.\n",
    "        - To put data on the same scale "
   ]
  },
  {
   "cell_type": "code",
   "execution_count": null,
   "metadata": {},
   "outputs": [],
   "source": [
    "from sklearn.preprocessing import  StandardScaler\n",
    "sc=StandardScaler()\n",
    "cr_scaled=sc.fit_transform(basetable)"
   ]
  },
  {
   "cell_type": "code",
   "execution_count": null,
   "metadata": {},
   "outputs": [],
   "source": [
    "#basetable.info()"
   ]
  },
  {
   "cell_type": "markdown",
   "metadata": {},
   "source": [
    "##### Applying PCA "
   ]
  },
  {
   "cell_type": "code",
   "execution_count": null,
   "metadata": {},
   "outputs": [],
   "source": [
    "from sklearn.decomposition import PCA"
   ]
  },
  {
   "cell_type": "code",
   "execution_count": null,
   "metadata": {},
   "outputs": [],
   "source": [
    "basetable.shape"
   ]
  },
  {
   "cell_type": "code",
   "execution_count": null,
   "metadata": {},
   "outputs": [],
   "source": [
    "var_ratio={}\n",
    "for n in range(2,9):\n",
    "    pc=PCA(n_components=n)\n",
    "    cr_pca=pc.fit(cr_scaled)\n",
    "    var_ratio[n]=sum(cr_pca.explained_variance_ratio_)"
   ]
  },
  {
   "cell_type": "code",
   "execution_count": null,
   "metadata": {},
   "outputs": [],
   "source": [
    "var_ratio"
   ]
  },
  {
   "cell_type": "markdown",
   "metadata": {},
   "source": [
    "    -As we can see, 7 Comonents are explaning 90% of the variance. "
   ]
  },
  {
   "cell_type": "code",
   "execution_count": null,
   "metadata": {},
   "outputs": [],
   "source": [
    "pc= PCA(n_components=7).fit_transform(basetable)\n",
    "#pd.Series(pc.explained_variance_ratio_).plot()"
   ]
  },
  {
   "cell_type": "markdown",
   "metadata": {},
   "source": [
    "---"
   ]
  },
  {
   "cell_type": "markdown",
   "metadata": {},
   "source": [
    "### 6. Building Model"
   ]
  },
  {
   "cell_type": "code",
   "execution_count": null,
   "metadata": {},
   "outputs": [],
   "source": [
    "# Importing Classifier Modules\n",
    "from sklearn.linear_model import LogisticRegression\n",
    "from sklearn.svm import SVC, LinearSVC\n",
    "from sklearn.neighbors import KNeighborsClassifier\n",
    "from sklearn.tree import DecisionTreeClassifier\n",
    "from sklearn.ensemble import RandomForestClassifier\n",
    "from sklearn.metrics import accuracy_score, confusion_matrix"
   ]
  },
  {
   "cell_type": "markdown",
   "metadata": {},
   "source": [
    "    -Divide your data into different time windows. \n",
    "        For example: If you have data for 5 years,  \n",
    "                    • Use the first 3 years to train models \n",
    "                    • validate on the 4th year and pick your best model \n",
    "                    • The 5th year’s data will be your hold-out sample for determining out-of-sample accuracy \n",
    " "
   ]
  },
  {
   "cell_type": "code",
   "execution_count": null,
   "metadata": {},
   "outputs": [],
   "source": [
    "print basetable.Start_Year.min()\n",
    "print basetable.Start_Year.max()\n",
    "diff=basetable.Start_Year.max()-basetable.Start_Year.min()\n",
    "print 'Total Number of Years= '+diff.astype(str)"
   ]
  },
  {
   "cell_type": "markdown",
   "metadata": {},
   "source": [
    "    -For Traning=[1992-2001]= 9 YEARS\n",
    "    -For Validating=[2001-2003]= 2 YEARS\n",
    "    -For Testing=[2003-2005]= 2 YEARS"
   ]
  },
  {
   "cell_type": "code",
   "execution_count": null,
   "metadata": {},
   "outputs": [],
   "source": [
    "train=basetable[basetable.Start_Year<2001]\n",
    "validation=basetable[(basetable.Start_Year>=2001) & (basetable.Start_Year<2003)]\n",
    "test=basetable[basetable.Start_Year>=2003]\n",
    "\n",
    "X_train = train.drop(['Churn'], axis=1)\n",
    "Y_train = train.Churn\n",
    "\n",
    "X_validation = validation.drop(['Churn'], axis=1)\n",
    "Y_validation = validation.Churn\n",
    "\n",
    "X_test = test.drop(['Churn'], axis=1)\n",
    "Y_test = test.Churn"
   ]
  },
  {
   "cell_type": "markdown",
   "metadata": {},
   "source": [
    "###### Building Model on test data."
   ]
  },
  {
   "cell_type": "markdown",
   "metadata": {},
   "source": [
    "#### 1. Logistic Regression"
   ]
  },
  {
   "cell_type": "code",
   "execution_count": null,
   "metadata": {},
   "outputs": [],
   "source": [
    "clf_lr=LogisticRegression()\n",
    "clf_lr.fit(X_train, Y_train)\n",
    "lr_score_train=((accuracy_score(clf_lr.predict(X_train), Y_train))*100).round(2)\n",
    "lr_score_val= ((accuracy_score(clf_lr.predict(X_validation), Y_validation))*100).round(2)\n",
    "lr_score_test= ((accuracy_score(clf_lr.predict(X_test), Y_test))*100).round(2)\n",
    "print 'Train score:' , lr_score_train\n",
    "print 'Validation score:' ,lr_score_val\n",
    "print 'Test score:' , lr_score_test"
   ]
  },
  {
   "cell_type": "markdown",
   "metadata": {},
   "source": [
    "#### 2. Decision Tree"
   ]
  },
  {
   "cell_type": "code",
   "execution_count": null,
   "metadata": {},
   "outputs": [],
   "source": [
    "clf_dt= DecisionTreeClassifier()\n",
    "clf_dt.fit(X_train, Y_train)\n",
    "dt_score_train=((accuracy_score(clf_dt.predict(X_train), Y_train))*100).round(2)\n",
    "dt_score_val= ((accuracy_score(clf_dt.predict(X_validation), Y_validation))*100).round(2)\n",
    "dt_score_test= ((accuracy_score(clf_dt.predict(X_test), Y_test))*100).round(2)\n",
    "print 'Train score:' , dt_score_train\n",
    "print 'Validation score:' ,dt_score_val\n",
    "print 'Test score:' , dt_score_test"
   ]
  },
  {
   "cell_type": "markdown",
   "metadata": {},
   "source": [
    "#### 3. Random Forest"
   ]
  },
  {
   "cell_type": "code",
   "execution_count": null,
   "metadata": {},
   "outputs": [],
   "source": [
    "clf_rf= RandomForestClassifier(n_estimators=100)\n",
    "clf_rf.fit(X_train, Y_train)\n",
    "rf_score_train=((accuracy_score(clf_rf.predict(X_train), Y_train))*100).round(2)\n",
    "rf_score_val= ((accuracy_score(clf_rf.predict(X_validation), Y_validation))*100).round(2)\n",
    "rf_score_test= ((accuracy_score(clf_rf.predict(X_test), Y_test))*100).round(2)\n",
    "print 'Train score:' , rf_score_train\n",
    "print 'Validation score:' ,rf_score_val\n",
    "print 'Test score:' , rf_score_test"
   ]
  },
  {
   "cell_type": "markdown",
   "metadata": {},
   "source": [
    "#### 4. Support Vector Machine (SVM)"
   ]
  },
  {
   "cell_type": "code",
   "execution_count": null,
   "metadata": {},
   "outputs": [],
   "source": [
    "clf_svm= SVC()\n",
    "clf_svm.fit(X_train, Y_train)\n",
    "svm_score_train=((accuracy_score(clf_svm.predict(X_train), Y_train))*100).round(2)\n",
    "svm_score_val= ((accuracy_score(clf_svm.predict(X_validation), Y_validation))*100).round(2)\n",
    "svm_score_test= ((accuracy_score(clf_svm.predict(X_test), Y_test))*100).round(2)\n",
    "print 'Train score:' , svm_score_train\n",
    "print 'Validation score:' ,svm_score_val\n",
    "print 'Test score:' , svm_score_test"
   ]
  },
  {
   "cell_type": "markdown",
   "metadata": {},
   "source": [
    "#### 5. K -Nearest Neighbors"
   ]
  },
  {
   "cell_type": "code",
   "execution_count": null,
   "metadata": {},
   "outputs": [],
   "source": [
    "clf_knn=KNeighborsClassifier(n_neighbors = 3)\n",
    "clf_knn.fit(X_train, Y_train)\n",
    "knn_score_train=((accuracy_score(clf_knn.predict(X_train), Y_train))*100).round(2)\n",
    "knn_score_val= ((accuracy_score(clf_knn.predict(X_validation), Y_validation))*100).round(2)\n",
    "knn_score_test= ((accuracy_score(clf_knn.predict(X_test), Y_test))*100).round(2)\n",
    "print 'Train score:' , knn_score_train\n",
    "print 'Validation score:' ,knn_score_val\n",
    "print 'Test score:' , knn_score_test"
   ]
  },
  {
   "cell_type": "markdown",
   "metadata": {},
   "source": [
    "#### 6. Naive Bayes"
   ]
  },
  {
   "cell_type": "code",
   "execution_count": null,
   "metadata": {},
   "outputs": [],
   "source": [
    "from sklearn.naive_bayes import BernoulliNB\n",
    "clf_nb=BernoulliNB()\n",
    "clf_nb.fit(X_train, Y_train)\n",
    "nb_score_train=((accuracy_score(clf_nb.predict(X_train), Y_train))*100).round(2)\n",
    "nb_score_val= ((accuracy_score(clf_nb.predict(X_validation), Y_validation))*100).round(2)\n",
    "nb_score_test= ((accuracy_score(clf_nb.predict(X_test), Y_test))*100).round(2)\n",
    "print 'Train score:' , nb_score_train\n",
    "print 'Validation score:' ,nb_score_val\n",
    "print 'Test score:' , nb_score_test"
   ]
  },
  {
   "cell_type": "markdown",
   "metadata": {},
   "source": [
    "#### 7. Ada Boosting"
   ]
  },
  {
   "cell_type": "code",
   "execution_count": null,
   "metadata": {},
   "outputs": [],
   "source": [
    "from sklearn.ensemble import AdaBoostClassifier\n",
    "clf_ad=AdaBoostClassifier()\n",
    "clf_ad.fit(X_train, Y_train)\n",
    "ad_score_train=((accuracy_score(clf_ad.predict(X_train), Y_train))*100).round(2)\n",
    "ad_score_val= ((accuracy_score(clf_ad.predict(X_validation), Y_validation))*100).round(2)\n",
    "ad_score_test= ((accuracy_score(clf_ad.predict(X_test), Y_test))*100).round(2)\n",
    "print 'Train score:' , ad_score_train\n",
    "print 'Validation score:' ,ad_score_val\n",
    "print 'Test score:' , ad_score_test"
   ]
  },
  {
   "cell_type": "markdown",
   "metadata": {},
   "source": [
    "###### Comparing Models\n",
    "    Let's compare the accuracy score of all the classifier models used above."
   ]
  },
  {
   "cell_type": "code",
   "execution_count": null,
   "metadata": {},
   "outputs": [],
   "source": [
    "models = pd.DataFrame({\n",
    "    'Model': ['Logistic Regression','Decision Tree', 'Random Forest', 'Support Vector Machines','KNN','Naive Bayes','Ada Boosting'],\n",
    "    'Train_Score'     : [lr_score_train,dt_score_train,rf_score_train,svm_score_train, knn_score_train,nb_score_train,ad_score_train],\n",
    "    'Test_Score'      : [lr_score_test,dt_score_test,rf_score_test,svm_score_test, knn_score_test,nb_score_test,ad_score_test],\n",
    "    'Validation_Score': [lr_score_val,dt_score_val,rf_score_val,svm_score_val, knn_score_val,nb_score_val,ad_score_val]\n",
    "    })\n",
    "\n",
    "models.sort_values(by='Train_Score', ascending=False,inplace=True)\n",
    "models=models[['Model','Train_Score','Test_Score','Validation_Score']]\n",
    "models"
   ]
  },
  {
   "cell_type": "markdown",
   "metadata": {},
   "source": [
    "##### Choosing the Best Model and then predicting the Value using that model"
   ]
  },
  {
   "cell_type": "markdown",
   "metadata": {},
   "source": [
    "<big> I choose Adaboosting because it has very less chance of overfitting than other model."
   ]
  },
  {
   "cell_type": "code",
   "execution_count": null,
   "metadata": {
    "scrolled": false
   },
   "outputs": [],
   "source": [
    "y_predict=clf_ad.predict(X_test)\n",
    "\n",
    "y_prob1=clf_ad.predict_proba(X_test)\n",
    "y_prob=pd.DataFrame(y_prob1)\n",
    "y_prob2=list(y_prob[1])"
   ]
  },
  {
   "cell_type": "code",
   "execution_count": null,
   "metadata": {},
   "outputs": [],
   "source": [
    "submission = pd.DataFrame({\n",
    "        \"EXTRELNO\": test[\"EXTRELNO\"],\n",
    "        \"Churn\": y_predict,\n",
    "        \"Churn Probability\":y_prob2,\n",
    "        \"Start_Year\": test[\"Start_Year\"]})\n",
    "submission=submission[['EXTRELNO','Churn','Churn Probability','Start_Year']]\n",
    "submission.to_csv('submission_AdaBoosting.csv', index=False)\n",
    "submission.to_excel(writer,'submission_AdaBoosting', index=False)"
   ]
  },
  {
   "cell_type": "code",
   "execution_count": null,
   "metadata": {},
   "outputs": [],
   "source": [
    "submission.head()"
   ]
  },
  {
   "cell_type": "markdown",
   "metadata": {},
   "source": [
    "#### Variable Importance"
   ]
  },
  {
   "cell_type": "code",
   "execution_count": null,
   "metadata": {},
   "outputs": [],
   "source": [
    "ce=pd.DataFrame(clf_ad.feature_importances_, X_train.columns)\n",
    "ce.columns=['Coefficients%']\n",
    "ce.sort_values('Coefficients%',ascending=False,inplace=True)\n",
    "ce['Coefficients%']=((ce['Coefficients%'])*100).round(2)\n",
    "ce.to_excel(writer,'Variable_importance',index=True)"
   ]
  },
  {
   "cell_type": "code",
   "execution_count": null,
   "metadata": {},
   "outputs": [],
   "source": [
    "ce"
   ]
  },
  {
   "cell_type": "code",
   "execution_count": null,
   "metadata": {},
   "outputs": [],
   "source": [
    "ce=ce.head(6)\n",
    "ce['Coefficients%'].plot(kind='barh')"
   ]
  },
  {
   "cell_type": "markdown",
   "metadata": {},
   "source": [
    "    ************************ THE END ***********************************************************************************"
   ]
  },
  {
   "cell_type": "markdown",
   "metadata": {},
   "source": [
    "."
   ]
  }
 ],
 "metadata": {
  "kernelspec": {
   "display_name": "Python 2",
   "language": "python",
   "name": "python2"
  },
  "language_info": {
   "codemirror_mode": {
    "name": "ipython",
    "version": 2
   },
   "file_extension": ".py",
   "mimetype": "text/x-python",
   "name": "python",
   "nbconvert_exporter": "python",
   "pygments_lexer": "ipython2",
   "version": "2.7.15"
  }
 },
 "nbformat": 4,
 "nbformat_minor": 2
}
